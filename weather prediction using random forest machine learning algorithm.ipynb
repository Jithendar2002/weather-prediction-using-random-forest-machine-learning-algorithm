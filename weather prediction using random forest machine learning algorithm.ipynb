{
 "cells": [
  {
   "cell_type": "code",
   "execution_count": 1,
   "metadata": {},
   "outputs": [],
   "source": [
    "import pandas as pd\n",
    "import numpy as np\n",
    "from sklearn.model_selection import train_test_split\n",
    "from sklearn.ensemble import RandomForestRegressor"
   ]
  },
  {
   "cell_type": "code",
   "execution_count": 4,
   "metadata": {},
   "outputs": [
    {
     "name": "stdout",
     "output_type": "stream",
     "text": [
      "      Year  Month  Day  Hour  Minute  Temperature  Total Precipitation  \\\n",
      "0     2019      1    1     0       0         5.05                  0.0   \n",
      "1     2019      1    1     1       0         4.90                  0.0   \n",
      "2     2019      1    1     2       0         4.81                  0.0   \n",
      "3     2019      1    1     3       0         4.73                  0.0   \n",
      "4     2019      1    1     4       0         4.60                  0.0   \n",
      "...    ...    ...  ...   ...     ...          ...                  ...   \n",
      "9187  2020      1   18    19       0         3.35                  0.0   \n",
      "9188  2020      1   18    20       0         2.98                  0.0   \n",
      "9189  2020      1   18    21       0         2.72                  0.0   \n",
      "9190  2020      1   18    22       0         2.27                  0.0   \n",
      "9191  2020      1   18    23       0         2.06                  0.0   \n",
      "\n",
      "      Wind Speed  Wind Direction  \n",
      "0           4.68          292.62  \n",
      "1           4.69          302.47  \n",
      "2           4.83          296.57  \n",
      "3           5.35          289.65  \n",
      "4           5.24          285.95  \n",
      "...          ...             ...  \n",
      "9187        6.52          263.66  \n",
      "9188        4.80          257.01  \n",
      "9189        3.22          243.43  \n",
      "9190        2.90          209.74  \n",
      "9191        2.62          195.95  \n",
      "\n",
      "[9192 rows x 9 columns]\n",
      "The shape of our feature is: (9192, 9)\n"
     ]
    }
   ],
   "source": [
    "creation=pd.read_csv('temps2.csv', sep=';')\n",
    "creation.head(5)\n",
    "print(creation)\n",
    "print(\"The shape of our feature is:\", creation.shape)"
   ]
  },
  {
   "cell_type": "code",
   "execution_count": 5,
   "metadata": {},
   "outputs": [],
   "source": [
    "creation.describe()\n",
    "creation=pd.get_dummies(creation)\n",
    "creation.iloc[:,5:].head(5)\n",
    "labels=np.array(creation['Temperature'])\n",
    "creation=creation.drop('Temperature',axis=1)\n",
    "creation_list=list(creation.columns)\n",
    "creation=np.array(creation)"
   ]
  },
  {
   "cell_type": "code",
   "execution_count": 6,
   "metadata": {},
   "outputs": [],
   "source": [
    "train_creation, test_creation, train_labels, test_labels= train_test_split(creation,labels, test_size=0.30,random_state=4)"
   ]
  },
  {
   "cell_type": "code",
   "execution_count": 7,
   "metadata": {},
   "outputs": [
    {
     "name": "stdout",
     "output_type": "stream",
     "text": [
      "Training creation shape: (6434, 8)\n",
      "Training labels shape: (6434,)\n",
      "Testing creation shape: (2758, 8)\n",
      "Testing label shape: (2758,)\n"
     ]
    }
   ],
   "source": [
    "print('Training creation shape:', train_creation.shape)\n",
    "print('Training labels shape:', train_labels.shape)\n",
    "print('Testing creation shape:', test_creation.shape)\n",
    "print('Testing label shape:', test_labels.shape)"
   ]
  },
  {
   "cell_type": "code",
   "execution_count": 8,
   "metadata": {},
   "outputs": [
    {
     "name": "stdout",
     "output_type": "stream",
     "text": [
      "[21.29289 19.278    8.53319 ... 20.69914 15.77222  4.19896]\n"
     ]
    }
   ],
   "source": [
    "rf=RandomForestRegressor(n_estimators=1000, random_state=4)\n",
    "rf.fit(train_creation, train_labels)\n",
    "predictions=rf.predict(test_creation)\n",
    "print(predictions)"
   ]
  },
  {
   "cell_type": "code",
   "execution_count": 13,
   "metadata": {},
   "outputs": [
    {
     "name": "stdout",
     "output_type": "stream",
     "text": [
      "Mean Absolute Error: 1.05 degrees.\n"
     ]
    }
   ],
   "source": [
    "errors=abs(predictions - test_labels)\n",
    "print('Mean Absolute Error:', round(np.mean(errors), 2), 'degrees.')"
   ]
  },
  {
   "cell_type": "code",
   "execution_count": 20,
   "metadata": {},
   "outputs": [
    {
     "name": "stdout",
     "output_type": "stream",
     "text": [
      "Accuracy: 88.09 %.\n"
     ]
    }
   ],
   "source": [
    "accuracy = 100 - np.mean(mape)\n",
    "accuracy = 100 - np.mean(mape[np.isfinite(mape)])\n",
    "print('Accuracy:', round(accuracy, 2), '%.')"
   ]
  },
  {
   "cell_type": "code",
   "execution_count": null,
   "metadata": {},
   "outputs": [],
   "source": []
  },
  {
   "cell_type": "code",
   "execution_count": null,
   "metadata": {},
   "outputs": [],
   "source": []
  }
 ],
 "metadata": {
  "kernelspec": {
   "display_name": "Python 3",
   "language": "python",
   "name": "python3"
  },
  "language_info": {
   "codemirror_mode": {
    "name": "ipython",
    "version": 3
   },
   "file_extension": ".py",
   "mimetype": "text/x-python",
   "name": "python",
   "nbconvert_exporter": "python",
   "pygments_lexer": "ipython3",
   "version": "3.8.3"
  }
 },
 "nbformat": 4,
 "nbformat_minor": 4
}
